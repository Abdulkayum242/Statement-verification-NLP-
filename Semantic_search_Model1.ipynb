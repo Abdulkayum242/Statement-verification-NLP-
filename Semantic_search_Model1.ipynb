{
 "cells": [
  {
   "cell_type": "code",
   "execution_count": null,
   "metadata": {},
   "outputs": [],
   "source": [
    "! pip install sentence-transformers\n"
   ]
  },
  {
   "cell_type": "code",
   "execution_count": 49,
   "metadata": {},
   "outputs": [],
   "source": [
    "from sentence_transformers import SentenceTransformer\n",
    "import matplotlib.pyplot as plt\n",
    "import seaborn as sns\n",
    "from sklearn.metrics.pairwise import cosine_similarity\n",
    "import numpy as np"
   ]
  },
  {
   "cell_type": "code",
   "execution_count": 50,
   "metadata": {},
   "outputs": [],
   "source": [
    "model = SentenceTransformer('msmarco-distilbert-base-dot-prod-v3')"
   ]
  },
  {
   "cell_type": "code",
   "execution_count": 51,
   "metadata": {},
   "outputs": [],
   "source": [
    "with open('C:\\\\Users\\\\onero\\\\Downloads\\\\Semantic_search_project/trans1.txt','r',encoding='utf-8') as f:\n",
    "    document2=f.read()"
   ]
  },
  {
   "cell_type": "code",
   "execution_count": null,
   "metadata": {},
   "outputs": [],
   "source": [
    "#document2"
   ]
  },
  {
   "cell_type": "code",
   "execution_count": 52,
   "metadata": {},
   "outputs": [],
   "source": [
    "from nltk.tokenize import sent_tokenize"
   ]
  },
  {
   "cell_type": "code",
   "execution_count": null,
   "metadata": {},
   "outputs": [],
   "source": [
    "Query1='agent told me that this policy cover everything but now they are asking me to pay some amount'"
   ]
  },
  {
   "cell_type": "code",
   "execution_count": null,
   "metadata": {},
   "outputs": [],
   "source": [
    "Query2='what is healthcare insurance please explain be breifly'"
   ]
  },
  {
   "cell_type": "code",
   "execution_count": null,
   "metadata": {},
   "outputs": [],
   "source": [
    "Query3='what the healthcare insurance policy cover'"
   ]
  },
  {
   "cell_type": "code",
   "execution_count": 56,
   "metadata": {},
   "outputs": [],
   "source": [
    "Query4='are there any specific hospital to claim the policy'"
   ]
  },
  {
   "cell_type": "code",
   "execution_count": 10,
   "metadata": {},
   "outputs": [],
   "source": [
    "Query5='do i have to renew the policy every year ?'"
   ]
  },
  {
   "cell_type": "code",
   "execution_count": 11,
   "metadata": {},
   "outputs": [],
   "source": [
    "Query6='agent said you have to renew the policy only once now you are saying every year ?'"
   ]
  },
  {
   "cell_type": "code",
   "execution_count": 118,
   "metadata": {},
   "outputs": [],
   "source": [
    "Query7='dental operation is also cover in this policy agent said '"
   ]
  },
  {
   "cell_type": "code",
   "execution_count": 94,
   "metadata": {},
   "outputs": [],
   "source": [
    "Query8='how to claim the policy ,what is the procedure to claim the policy '"
   ]
  },
  {
   "cell_type": "code",
   "execution_count": 14,
   "metadata": {},
   "outputs": [],
   "source": [
    "Query9='Does the policy cover only major expenses or it will also cover minor expenses'"
   ]
  },
  {
   "cell_type": "code",
   "execution_count": 57,
   "metadata": {},
   "outputs": [
    {
     "data": {
      "text/plain": [
       "['hello am i talking to abdul yes who is this abdul i am talking from policybazaar goodafternoon\\ngoodafternoon.',\n",
       " 'you are looking for healthcare insurance of age twenty two year from mumbai.',\n",
       " 'yeah.',\n",
       " 'is it your first time or you have already using any other company plan.',\n",
       " 'no i did not used any plan yet .',\n",
       " 'which means you are searching for the first time right .',\n",
       " 'yeah it is my first time .',\n",
       " 'sir do you have any idea about healthcare insurance.',\n",
       " 'no please explain me everything i want to know everything.',\n",
       " 'sure so first i will explain you what is health insurance in brief see after buying policy if you experience any medical emergency , any critical cases or any accidential cases so during hospitalization the cost of medical expenses is totally paid by insurance company sir.',\n",
       " 'how much percentage you pay suppose like for particular policy you will get eighty percent and twenty percent you have to pay .',\n",
       " 'no insurance company will pay and secondly in policy bazaar we have fifteen major company are available and for each company the price is different becuase the benefits are different from companies to companies .',\n",
       " 'yeah alright .',\n",
       " 'particularly you are talking from mumbai right.',\n",
       " 'yeah right from mumbai.',\n",
       " 'so sir i believe that you do not have any medical problem .',\n",
       " 'no i do not have any yet .',\n",
       " 'okay great alright my name is pradeep employment code is Pw12997 and this call is recording .',\n",
       " 'yeah ok.\\nso sir the coverage amount you are looking is between 5 to 10 lakh or more than this .',\n",
       " 'no you can say within 5 lakh not more than .',\n",
       " 'within the 5 lakh .',\n",
       " 'yeah .',\n",
       " 'so within 5 lakh i would like to suggest start health company insurance plan and i believe you have heard about star health company name.',\n",
       " 'start health okay so what is the benefits of takin their insurance with respect to other companies .',\n",
       " 'yeah i will tell you first i will tell you the price for 1 year five thousand for 5 lakh of coverage.',\n",
       " 'yearly yeah okay and one more thing i want to know suppose i am buying any healthcare insurance and i am paying premium let say 299 or 399 \\nso i have to renew every year or what is the case.',\n",
       " 'sir you have to renew your policy for the life long sir it totally depends on you sir if you \\nrenew then you will be covered but if you do not renew you will not be covered sir .so for every year i have to renew everything right yes because \\nthis is the annually basis policy annually just like we buy for car or bike insurance yes got it got it yes.',\n",
       " 'so what is the procedure of claiming and\\nand everything .sir usually after buying policy you will get digital copy on your mail id and physical copy on your residential address okay and if tomorrow \\nyou want to claim the policy then in hospital you have to show the card and after some formalities and document filled by you then you can start your \\ntreatment .okay and what will be converd in the policy,sir in every healthcare insurance policy all the major expenses will be covered like roomrent anesthesia \\noxygen medicine cost doctor consultaion any diagnostic test and ot or iso charges each an everything insurance company will pay.',\n",
       " 'But there are some small expenses\\nwhich company does not covered like for example cotton gloves mask sanitizers so company will not pay for these things okay .',\n",
       " 'In big hospital they also provide food so it is also not covered in insurance right these are the things which are exclude from the policy .',\n",
       " 'company only provides the treatment cost and for other you have to pay .',\n",
       " 'suppose i want to claim the insurance so are there any specific hospital i should go or \\ni can go to any hospital and claim the insurance .',\n",
       " 'sir usually if you want to do capstro treatment then you have to go to tieup hospital but if you claim the insurance\\nto any other hospital then first you have to pay all the expenses share the bill to insurance company then it will reimburse the amount to you.',\n",
       " 'okay so first i have to pay then \\nonly i can reimburse my amount yeah it is only for non-tieup hospital ok .',\n",
       " 'So in nontieup hospital are the insurance company will provide all the expenses or i have to pay some amount .',\n",
       " 'no sir you will get all amount but which is covered in the policy\\nand for minor things you have to pay .',\n",
       " 'hello yeah pradeep tell me till here everything is clear right yeah .',\n",
       " 'so in room rent wise there is no limit single private ac room are applicable.',\n",
       " 'if there is no claim then next year company will increase your plan by one lakh ok .',\n",
       " 'so in second year also suppose my health is good so yeah again in third year your plan will increase by one lakh ok got it.']"
      ]
     },
     "execution_count": 57,
     "metadata": {},
     "output_type": "execute_result"
    }
   ],
   "source": [
    "sent_token=sent_tokenize(document2)\n",
    "sent_token"
   ]
  },
  {
   "cell_type": "code",
   "execution_count": 162,
   "metadata": {},
   "outputs": [],
   "source": [
    "similarity_score=[]\n",
    "for i in sent_token:\n",
    "    sentence=[Question4,i]\n",
    "    embeddings = model.encode(sentence)\n",
    "    scores=np.zeros((embeddings.shape[0],embeddings.shape[0]))\n",
    "    for i in range(embeddings.shape[0]):\n",
    "         scores[i,:]=cosine_similarity([embeddings[i]],embeddings)\n",
    "    similarity_score.append(round(scores[1,0],2))"
   ]
  },
  {
   "cell_type": "code",
   "execution_count": 163,
   "metadata": {},
   "outputs": [],
   "source": [
    "sent_score= {}\n",
    "for key in sent_token:\n",
    "    for value in similarity_score:\n",
    "        sent_score[key] = value\n",
    "        similarity_score.remove(value)\n",
    "        break  "
   ]
  },
  {
   "cell_type": "code",
   "execution_count": 60,
   "metadata": {},
   "outputs": [],
   "source": [
    "from heapq import nlargest,nsmallest"
   ]
  },
  {
   "cell_type": "code",
   "execution_count": null,
   "metadata": {},
   "outputs": [],
   "source": [
    "Top_k_values = nlargest(5, sent_score,key=sent_score.get)\n",
    "Top_k_values"
   ]
  },
  {
   "cell_type": "code",
   "execution_count": null,
   "metadata": {},
   "outputs": [],
   "source": [
    "Query9"
   ]
  },
  {
   "cell_type": "code",
   "execution_count": null,
   "metadata": {},
   "outputs": [],
   "source": [
    "''.join(Top_k_values)"
   ]
  },
  {
   "cell_type": "markdown",
   "metadata": {},
   "source": [
    "## Query and paragraph"
   ]
  },
  {
   "cell_type": "code",
   "execution_count": null,
   "metadata": {},
   "outputs": [],
   "source": [
    "Query1"
   ]
  },
  {
   "cell_type": "code",
   "execution_count": null,
   "metadata": {},
   "outputs": [],
   "source": [
    "''.join(Top_k_values)"
   ]
  },
  {
   "cell_type": "code",
   "execution_count": null,
   "metadata": {},
   "outputs": [],
   "source": [
    "Query2"
   ]
  },
  {
   "cell_type": "code",
   "execution_count": null,
   "metadata": {},
   "outputs": [],
   "source": [
    "''.join(Top_k_values)"
   ]
  },
  {
   "cell_type": "code",
   "execution_count": null,
   "metadata": {},
   "outputs": [],
   "source": [
    "Query3"
   ]
  },
  {
   "cell_type": "code",
   "execution_count": null,
   "metadata": {},
   "outputs": [],
   "source": [
    "''.join(Top_k_values)"
   ]
  },
  {
   "cell_type": "code",
   "execution_count": null,
   "metadata": {},
   "outputs": [],
   "source": [
    "Query4"
   ]
  },
  {
   "cell_type": "code",
   "execution_count": null,
   "metadata": {},
   "outputs": [],
   "source": [
    "''.join(Top_k_values)"
   ]
  },
  {
   "cell_type": "code",
   "execution_count": null,
   "metadata": {},
   "outputs": [],
   "source": [
    "Query5"
   ]
  },
  {
   "cell_type": "code",
   "execution_count": null,
   "metadata": {},
   "outputs": [],
   "source": [
    "''.join(Top_k_values)"
   ]
  },
  {
   "cell_type": "code",
   "execution_count": null,
   "metadata": {},
   "outputs": [],
   "source": [
    "Query6"
   ]
  },
  {
   "cell_type": "code",
   "execution_count": null,
   "metadata": {},
   "outputs": [],
   "source": [
    "''.join(Top_k_values)"
   ]
  },
  {
   "cell_type": "code",
   "execution_count": null,
   "metadata": {},
   "outputs": [],
   "source": [
    "Query7"
   ]
  },
  {
   "cell_type": "code",
   "execution_count": null,
   "metadata": {},
   "outputs": [],
   "source": [
    "''.join(Top_k_values)"
   ]
  },
  {
   "cell_type": "code",
   "execution_count": null,
   "metadata": {},
   "outputs": [],
   "source": []
  },
  {
   "cell_type": "code",
   "execution_count": null,
   "metadata": {},
   "outputs": [],
   "source": []
  },
  {
   "cell_type": "code",
   "execution_count": 28,
   "metadata": {},
   "outputs": [],
   "source": [
    "from collections import Counter"
   ]
  },
  {
   "cell_type": "code",
   "execution_count": 164,
   "metadata": {},
   "outputs": [],
   "source": [
    "k = Counter(sent_score)\n",
    "# Finding top highest values\n",
    "high = k.most_common(5)\n"
   ]
  },
  {
   "cell_type": "code",
   "execution_count": null,
   "metadata": {},
   "outputs": [],
   "source": [
    "print('Question:',Question4)\n",
    "print('\\n')\n",
    "print(\"sentence with 5 highest similarity values:\")\n",
    "print('\\n')\n",
    "for i in high:\n",
    "    print(i[0],\" :\",i[1],\" \")\n",
    "    print('\\n')"
   ]
  },
  {
   "cell_type": "markdown",
   "metadata": {},
   "source": [
    "## Query that I had asked while conversation "
   ]
  },
  {
   "cell_type": "code",
   "execution_count": 46,
   "metadata": {},
   "outputs": [
    {
     "data": {
      "text/plain": [
       "'what is healthcare insurance please explain be breifly'"
      ]
     },
     "execution_count": 46,
     "metadata": {},
     "output_type": "execute_result"
    }
   ],
   "source": [
    "Query2"
   ]
  },
  {
   "cell_type": "code",
   "execution_count": 103,
   "metadata": {},
   "outputs": [
    {
     "name": "stdout",
     "output_type": "stream",
     "text": [
      "Question: what is healthcare insurance please explain be breifly\n",
      "\n",
      "\n",
      "sentence with 3 highest similarity values:\n",
      "\n",
      "\n",
      "suppose i want to claim the insurance so are there any specific hospital i should go or \n",
      "i can go to any hospital and claim the insurance .  : 0.69  \n",
      "\n",
      "\n",
      "so what is the procedure of claiming and\n",
      "and everything .sir usually after buying policy you will get digital copy on your mail id and physical copy on your residential address okay and if tomorrow \n",
      "you want to claim the policy then in hospital you have to show the card and after some formalities and document filled by you then you can start your \n",
      "treatment .okay and what will be converd in the policy,sir in every healthcare insurance policy all the major expenses will be covered like roomrent anesthesia \n",
      "oxygen medicine cost doctor consultaion any diagnostic test and ot or iso charges each an everything insurance company will pay.  : 0.65  \n",
      "\n",
      "\n",
      "sir usually if you want to do capstro treatment then you have to go to tieup hospital but if you claim the insurance\n",
      "to any other hospital then first you have to pay all the expenses share the bill to insurance company then it will reimburse the amount to you.  : 0.49  \n",
      "\n",
      "\n",
      "no sir you will get all amount but which is covered in the policy\n",
      "and for minor things you have to pay .  : 0.49  \n",
      "\n",
      "\n",
      "sure so first i will explain you what is health insurance in brief see after buying policy if you experience any medical emergency , any critical cases or any accidential cases so during hospitalization the cost of medical expenses is totally paid by insurance company sir.  : 0.47  \n",
      "\n",
      "\n"
     ]
    }
   ],
   "source": [
    "print('Question:',Query2)\n",
    "print('\\n')\n",
    "print(\"sentence with 5 highest similarity values:\")\n",
    "print('\\n')\n",
    "for i in high:\n",
    "    print(i[0],\" :\",i[1])\n",
    "    print('\\n')"
   ]
  },
  {
   "cell_type": "code",
   "execution_count": 69,
   "metadata": {},
   "outputs": [
    {
     "data": {
      "text/plain": [
       "'what the healthcare insurance policy cover'"
      ]
     },
     "execution_count": 69,
     "metadata": {},
     "output_type": "execute_result"
    }
   ],
   "source": [
    "Query3"
   ]
  },
  {
   "cell_type": "code",
   "execution_count": 75,
   "metadata": {},
   "outputs": [
    {
     "name": "stdout",
     "output_type": "stream",
     "text": [
      "Question: what the healthcare insurance policy cover\n",
      "\n",
      "\n",
      "sentence with 3 highest similarity values:\n",
      "\n",
      "\n",
      "sure so first i will explain you what is health insurance in brief see after buying policy if you experience any medical emergency , any critical cases or any accidential cases so during hospitalization the cost of medical expenses is totally paid by insurance company sir.  : 0.58  \n",
      "\n",
      "\n",
      "sir do you have any idea about healthcare insurance.  : 0.57  \n",
      "\n",
      "\n",
      "start health okay so what is the benefits of takin their insurance with respect to other companies .  : 0.56  \n",
      "\n",
      "\n",
      "so what is the procedure of claiming and\n",
      "and everything .sir usually after buying policy you will get digital copy on your mail id and physical copy on your residential address okay and if tomorrow \n",
      "you want to claim the policy then in hospital you have to show the card and after some formalities and document filled by you then you can start your \n",
      "treatment .okay and what will be converd in the policy,sir in every healthcare insurance policy all the major expenses will be covered like roomrent anesthesia \n",
      "oxygen medicine cost doctor consultaion any diagnostic test and ot or iso charges each an everything insurance company will pay.  : 0.55  \n",
      "\n",
      "\n",
      "In big hospital they also provide food so it is also not covered in insurance right these are the things which are exclude from the policy .  : 0.54  \n",
      "\n",
      "\n"
     ]
    }
   ],
   "source": [
    "print('Question:',Query3)\n",
    "print('\\n')\n",
    "print(\"sentence with 5 highest similarity values:\")\n",
    "print('\\n')\n",
    "for i in high:\n",
    "    print(i[0],\" :\",i[1],\" \")\n",
    "    print('\\n')"
   ]
  },
  {
   "cell_type": "code",
   "execution_count": 76,
   "metadata": {},
   "outputs": [
    {
     "data": {
      "text/plain": [
       "'are there any specific hospital to claim the policy'"
      ]
     },
     "execution_count": 76,
     "metadata": {},
     "output_type": "execute_result"
    }
   ],
   "source": [
    "Query4"
   ]
  },
  {
   "cell_type": "code",
   "execution_count": 85,
   "metadata": {},
   "outputs": [
    {
     "name": "stdout",
     "output_type": "stream",
     "text": [
      "Question: are there any specific hospital to claim the policy\n",
      "\n",
      "\n",
      "sentence with 3 highest similarity values:\n",
      "\n",
      "\n",
      "suppose i want to claim the insurance so are there any specific hospital i should go or \n",
      "i can go to any hospital and claim the insurance .  : 0.78  \n",
      "\n",
      "\n",
      "so what is the procedure of claiming and\n",
      "and everything .sir usually after buying policy you will get digital copy on your mail id and physical copy on your residential address okay and if tomorrow \n",
      "you want to claim the policy then in hospital you have to show the card and after some formalities and document filled by you then you can start your \n",
      "treatment .okay and what will be converd in the policy,sir in every healthcare insurance policy all the major expenses will be covered like roomrent anesthesia \n",
      "oxygen medicine cost doctor consultaion any diagnostic test and ot or iso charges each an everything insurance company will pay.  : 0.61  \n",
      "\n",
      "\n",
      "In big hospital they also provide food so it is also not covered in insurance right these are the things which are exclude from the policy .  : 0.59  \n",
      "\n",
      "\n",
      "So in nontieup hospital are the insurance company will provide all the expenses or i have to pay some amount .  : 0.59  \n",
      "\n",
      "\n",
      "sir usually if you want to do capstro treatment then you have to go to tieup hospital but if you claim the insurance\n",
      "to any other hospital then first you have to pay all the expenses share the bill to insurance company then it will reimburse the amount to you.  : 0.52  \n",
      "\n",
      "\n"
     ]
    }
   ],
   "source": [
    "print('Question:',Query4)\n",
    "print('\\n')\n",
    "print(\"sentence with 5 highest similarity values:\")\n",
    "print('\\n')\n",
    "for i in high:\n",
    "    print(i[0],\" :\",i[1],\" \")\n",
    "    print('\\n')"
   ]
  },
  {
   "cell_type": "code",
   "execution_count": 86,
   "metadata": {},
   "outputs": [
    {
     "data": {
      "text/plain": [
       "'do i have to renew the policy every year ?'"
      ]
     },
     "execution_count": 86,
     "metadata": {},
     "output_type": "execute_result"
    }
   ],
   "source": [
    "Query5"
   ]
  },
  {
   "cell_type": "code",
   "execution_count": 93,
   "metadata": {},
   "outputs": [
    {
     "name": "stdout",
     "output_type": "stream",
     "text": [
      "Question: do i have to renew the policy every year ?\n",
      "\n",
      "\n",
      "sentence with 5 highest similarity values:\n",
      "\n",
      "\n",
      "sir you have to renew your policy for the life long sir it totally depends on you sir if you \n",
      "renew then you will be covered but if you do not renew you will not be covered sir .so for every year i have to renew everything right yes because \n",
      "this is the annually basis policy annually just like we buy for car or bike insurance yes got it got it yes.  : 0.65  \n",
      "\n",
      "\n",
      "yearly yeah okay and one more thing i want to know suppose i am buying any healthcare insurance and i am paying premium let say 299 or 399 \n",
      "so i have to renew every year or what is the case.  : 0.64  \n",
      "\n",
      "\n",
      "so in second year also suppose my health is good so yeah again in third year your plan will increase by one lakh ok got it.  : 0.45  \n",
      "\n",
      "\n",
      "if there is no claim then next year company will increase your plan by one lakh ok .  : 0.43  \n",
      "\n",
      "\n",
      "so what is the procedure of claiming and\n",
      "and everything .sir usually after buying policy you will get digital copy on your mail id and physical copy on your residential address okay and if tomorrow \n",
      "you want to claim the policy then in hospital you have to show the card and after some formalities and document filled by you then you can start your \n",
      "treatment .okay and what will be converd in the policy,sir in every healthcare insurance policy all the major expenses will be covered like roomrent anesthesia \n",
      "oxygen medicine cost doctor consultaion any diagnostic test and ot or iso charges each an everything insurance company will pay.  : 0.41  \n",
      "\n",
      "\n"
     ]
    }
   ],
   "source": [
    "print('Question:',Query5)\n",
    "print('\\n')\n",
    "print(\"sentence with 5 highest similarity values:\")\n",
    "print('\\n')\n",
    "for i in high:\n",
    "    print(i[0],\" :\",i[1],\" \")\n",
    "    print('\\n')"
   ]
  },
  {
   "cell_type": "code",
   "execution_count": 95,
   "metadata": {},
   "outputs": [
    {
     "data": {
      "text/plain": [
       "'how to claim the policy ,what is the procedure to claim the policy '"
      ]
     },
     "execution_count": 95,
     "metadata": {},
     "output_type": "execute_result"
    }
   ],
   "source": [
    "Query8"
   ]
  },
  {
   "cell_type": "code",
   "execution_count": 101,
   "metadata": {},
   "outputs": [
    {
     "name": "stdout",
     "output_type": "stream",
     "text": [
      "Question: how to claim the policy ,what is the procedure to claim the policy \n",
      "\n",
      "\n",
      "sentence with 5 highest similarity values:\n",
      "\n",
      "\n",
      "suppose i want to claim the insurance so are there any specific hospital i should go or \n",
      "i can go to any hospital and claim the insurance .  : 0.69  \n",
      "\n",
      "\n",
      "so what is the procedure of claiming and\n",
      "and everything .sir usually after buying policy you will get digital copy on your mail id and physical copy on your residential address okay and if tomorrow \n",
      "you want to claim the policy then in hospital you have to show the card and after some formalities and document filled by you then you can start your \n",
      "treatment .okay and what will be converd in the policy,sir in every healthcare insurance policy all the major expenses will be covered like roomrent anesthesia \n",
      "oxygen medicine cost doctor consultaion any diagnostic test and ot or iso charges each an everything insurance company will pay.  : 0.65  \n",
      "\n",
      "\n",
      "sir usually if you want to do capstro treatment then you have to go to tieup hospital but if you claim the insurance\n",
      "to any other hospital then first you have to pay all the expenses share the bill to insurance company then it will reimburse the amount to you.  : 0.49  \n",
      "\n",
      "\n",
      "no sir you will get all amount but which is covered in the policy\n",
      "and for minor things you have to pay .  : 0.49  \n",
      "\n",
      "\n",
      "sure so first i will explain you what is health insurance in brief see after buying policy if you experience any medical emergency , any critical cases or any accidential cases so during hospitalization the cost of medical expenses is totally paid by insurance company sir.  : 0.47  \n",
      "\n",
      "\n"
     ]
    }
   ],
   "source": [
    "print('Question:',Query8)\n",
    "print('\\n')\n",
    "print(\"sentence with 5 highest similarity values:\")\n",
    "print('\\n')\n",
    "for i in high:\n",
    "    print(i[0],\" :\",i[1],\" \")\n",
    "    print('\\n')"
   ]
  },
  {
   "cell_type": "code",
   "execution_count": null,
   "metadata": {},
   "outputs": [],
   "source": []
  },
  {
   "cell_type": "markdown",
   "metadata": {},
   "source": [
    "## Query that I had not asked while conversation "
   ]
  },
  {
   "cell_type": "code",
   "execution_count": 111,
   "metadata": {},
   "outputs": [],
   "source": [
    "Question1='is this policy cover charges of ambulance fee also ?'"
   ]
  },
  {
   "cell_type": "code",
   "execution_count": 117,
   "metadata": {},
   "outputs": [
    {
     "name": "stdout",
     "output_type": "stream",
     "text": [
      "Question: is this policy cover charges of ambulance fee also ?\n",
      "\n",
      "\n",
      "sentence with 5 highest similarity values:\n",
      "\n",
      "\n",
      "sure so first i will explain you what is health insurance in brief see after buying policy if you experience any medical emergency , any critical cases or any accidential cases so during hospitalization the cost of medical expenses is totally paid by insurance company sir.  : 0.57  \n",
      "\n",
      "\n",
      "In big hospital they also provide food so it is also not covered in insurance right these are the things which are exclude from the policy .  : 0.57  \n",
      "\n",
      "\n",
      "so what is the procedure of claiming and\n",
      "and everything .sir usually after buying policy you will get digital copy on your mail id and physical copy on your residential address okay and if tomorrow \n",
      "you want to claim the policy then in hospital you have to show the card and after some formalities and document filled by you then you can start your \n",
      "treatment .okay and what will be converd in the policy,sir in every healthcare insurance policy all the major expenses will be covered like roomrent anesthesia \n",
      "oxygen medicine cost doctor consultaion any diagnostic test and ot or iso charges each an everything insurance company will pay.  : 0.55  \n",
      "\n",
      "\n",
      "suppose i want to claim the insurance so are there any specific hospital i should go or \n",
      "i can go to any hospital and claim the insurance .  : 0.55  \n",
      "\n",
      "\n",
      "no sir you will get all amount but which is covered in the policy\n",
      "and for minor things you have to pay .  : 0.55  \n",
      "\n",
      "\n"
     ]
    }
   ],
   "source": [
    "print('Question:',Question1)\n",
    "print('\\n')\n",
    "print(\"sentence with 5 highest similarity values:\")\n",
    "print('\\n')\n",
    "for i in high:\n",
    "    print(i[0],\" :\",i[1],\" \")\n",
    "    print('\\n')"
   ]
  },
  {
   "cell_type": "code",
   "execution_count": 123,
   "metadata": {},
   "outputs": [
    {
     "data": {
      "text/plain": [
       "'dental operation is also cover in this policy agent said '"
      ]
     },
     "execution_count": 123,
     "metadata": {},
     "output_type": "execute_result"
    }
   ],
   "source": [
    "Query7"
   ]
  },
  {
   "cell_type": "code",
   "execution_count": 124,
   "metadata": {},
   "outputs": [
    {
     "name": "stdout",
     "output_type": "stream",
     "text": [
      "Question: dental operation is also cover in this policy agent said \n",
      "\n",
      "\n",
      "sentence with 5 highest similarity values:\n",
      "\n",
      "\n",
      "so what is the procedure of claiming and\n",
      "and everything .sir usually after buying policy you will get digital copy on your mail id and physical copy on your residential address okay and if tomorrow \n",
      "you want to claim the policy then in hospital you have to show the card and after some formalities and document filled by you then you can start your \n",
      "treatment .okay and what will be converd in the policy,sir in every healthcare insurance policy all the major expenses will be covered like roomrent anesthesia \n",
      "oxygen medicine cost doctor consultaion any diagnostic test and ot or iso charges each an everything insurance company will pay.  : 0.55  \n",
      "\n",
      "\n",
      "But there are some small expenses\n",
      "which company does not covered like for example cotton gloves mask sanitizers so company will not pay for these things okay .  : 0.52  \n",
      "\n",
      "\n",
      "sure so first i will explain you what is health insurance in brief see after buying policy if you experience any medical emergency , any critical cases or any accidential cases so during hospitalization the cost of medical expenses is totally paid by insurance company sir.  : 0.51  \n",
      "\n",
      "\n",
      "suppose i want to claim the insurance so are there any specific hospital i should go or \n",
      "i can go to any hospital and claim the insurance .  : 0.5  \n",
      "\n",
      "\n",
      "start health okay so what is the benefits of takin their insurance with respect to other companies .  : 0.49  \n",
      "\n",
      "\n"
     ]
    }
   ],
   "source": [
    "print('Question:',Query7)\n",
    "print('\\n')\n",
    "print(\"sentence with 5 highest similarity values:\")\n",
    "print('\\n')\n",
    "for i in high:\n",
    "    print(i[0],\" :\",i[1],\" \")\n",
    "    print('\\n')"
   ]
  },
  {
   "cell_type": "code",
   "execution_count": 125,
   "metadata": {},
   "outputs": [],
   "source": [
    "Question2='this wadapav is very tasty i think you should also try'"
   ]
  },
  {
   "cell_type": "code",
   "execution_count": 130,
   "metadata": {},
   "outputs": [
    {
     "name": "stdout",
     "output_type": "stream",
     "text": [
      "Question: this wadapav is very tasty i think you should also try\n",
      "\n",
      "\n",
      "sentence with 5 highest similarity values:\n",
      "\n",
      "\n",
      "sir usually if you want to do capstro treatment then you have to go to tieup hospital but if you claim the insurance\n",
      "to any other hospital then first you have to pay all the expenses share the bill to insurance company then it will reimburse the amount to you.  : 0.44  \n",
      "\n",
      "\n",
      "hello am i talking to abdul yes who is this abdul i am talking from policybazaar goodafternoon\n",
      "goodafternoon.  : 0.4  \n",
      "\n",
      "\n",
      "particularly you are talking from mumbai right.  : 0.4  \n",
      "\n",
      "\n",
      "okay so first i have to pay then \n",
      "only i can reimburse my amount yeah it is only for non-tieup hospital ok .  : 0.4  \n",
      "\n",
      "\n",
      "okay great alright my name is pradeep employment code is Pw12997 and this call is recording .  : 0.39  \n",
      "\n",
      "\n"
     ]
    }
   ],
   "source": [
    "print('Question:',Question2)\n",
    "print('\\n')\n",
    "print(\"sentence with 5 highest similarity values:\")\n",
    "print('\\n')\n",
    "for i in high:\n",
    "    print(i[0],\" :\",i[1],\" \")\n",
    "    print('\\n')"
   ]
  },
  {
   "cell_type": "code",
   "execution_count": 131,
   "metadata": {},
   "outputs": [],
   "source": [
    "Question3='your agent used abusive words'"
   ]
  },
  {
   "cell_type": "code",
   "execution_count": 136,
   "metadata": {},
   "outputs": [
    {
     "name": "stdout",
     "output_type": "stream",
     "text": [
      "Question: your agent used abusive words\n",
      "\n",
      "\n",
      "sentence with 5 highest similarity values:\n",
      "\n",
      "\n",
      "hello am i talking to abdul yes who is this abdul i am talking from policybazaar goodafternoon\n",
      "goodafternoon.  : 0.37  \n",
      "\n",
      "\n",
      "is it your first time or you have already using any other company plan.  : 0.31  \n",
      "\n",
      "\n",
      "no i did not used any plan yet .  : 0.3  \n",
      "\n",
      "\n",
      "no please explain me everything i want to know everything.  : 0.3  \n",
      "\n",
      "\n",
      "okay great alright my name is pradeep employment code is Pw12997 and this call is recording .  : 0.3  \n",
      "\n",
      "\n"
     ]
    }
   ],
   "source": [
    "print('Question:',Question3)\n",
    "print('\\n')\n",
    "print(\"sentence with 5 highest similarity values:\")\n",
    "print('\\n')\n",
    "for i in high:\n",
    "    print(i[0],\" :\",i[1],\" \")\n",
    "    print('\\n')"
   ]
  },
  {
   "cell_type": "code",
   "execution_count": 143,
   "metadata": {},
   "outputs": [],
   "source": [
    "Question4='agent are forcing to buy policy please talk to your agent'"
   ]
  },
  {
   "cell_type": "code",
   "execution_count": 146,
   "metadata": {},
   "outputs": [
    {
     "name": "stdout",
     "output_type": "stream",
     "text": [
      "Question: agent are forcing to buy policy please talk to your agent\n",
      "\n",
      "\n",
      "sentence with 5 highest similarity values:\n",
      "\n",
      "\n",
      "so what is the procedure of claiming and\n",
      "and everything .sir usually after buying policy you will get digital copy on your mail id and physical copy on your residential address okay and if tomorrow \n",
      "you want to claim the policy then in hospital you have to show the card and after some formalities and document filled by you then you can start your \n",
      "treatment .okay and what will be converd in the policy,sir in every healthcare insurance policy all the major expenses will be covered like roomrent anesthesia \n",
      "oxygen medicine cost doctor consultaion any diagnostic test and ot or iso charges each an everything insurance company will pay.  : 0.51  \n",
      "\n",
      "\n",
      "sure so first i will explain you what is health insurance in brief see after buying policy if you experience any medical emergency , any critical cases or any accidential cases so during hospitalization the cost of medical expenses is totally paid by insurance company sir.  : 0.48  \n",
      "\n",
      "\n",
      "no insurance company will pay and secondly in policy bazaar we have fifteen major company are available and for each company the price is different becuase the benefits are different from companies to companies .  : 0.42  \n",
      "\n",
      "\n",
      "hello am i talking to abdul yes who is this abdul i am talking from policybazaar goodafternoon\n",
      "goodafternoon.  : 0.4  \n",
      "\n",
      "\n",
      "yearly yeah okay and one more thing i want to know suppose i am buying any healthcare insurance and i am paying premium let say 299 or 399 \n",
      "so i have to renew every year or what is the case.  : 0.4  \n",
      "\n",
      "\n"
     ]
    }
   ],
   "source": [
    "print('Question:',Question4)\n",
    "print('\\n')\n",
    "print(\"sentence with 5 highest similarity values:\")\n",
    "print('\\n')\n",
    "for i in high:\n",
    "    print(i[0],\" :\",i[1],\" \")\n",
    "    print('\\n')"
   ]
  },
  {
   "cell_type": "code",
   "execution_count": null,
   "metadata": {},
   "outputs": [],
   "source": []
  },
  {
   "cell_type": "code",
   "execution_count": null,
   "metadata": {},
   "outputs": [],
   "source": []
  },
  {
   "cell_type": "code",
   "execution_count": null,
   "metadata": {},
   "outputs": [],
   "source": []
  },
  {
   "cell_type": "code",
   "execution_count": null,
   "metadata": {},
   "outputs": [],
   "source": []
  },
  {
   "cell_type": "code",
   "execution_count": null,
   "metadata": {},
   "outputs": [],
   "source": []
  },
  {
   "cell_type": "code",
   "execution_count": null,
   "metadata": {},
   "outputs": [],
   "source": []
  },
  {
   "cell_type": "code",
   "execution_count": null,
   "metadata": {},
   "outputs": [],
   "source": []
  },
  {
   "cell_type": "code",
   "execution_count": null,
   "metadata": {},
   "outputs": [],
   "source": []
  },
  {
   "cell_type": "code",
   "execution_count": null,
   "metadata": {},
   "outputs": [],
   "source": []
  },
  {
   "cell_type": "code",
   "execution_count": null,
   "metadata": {},
   "outputs": [],
   "source": []
  },
  {
   "cell_type": "code",
   "execution_count": null,
   "metadata": {},
   "outputs": [],
   "source": []
  },
  {
   "cell_type": "code",
   "execution_count": null,
   "metadata": {},
   "outputs": [],
   "source": []
  },
  {
   "cell_type": "code",
   "execution_count": null,
   "metadata": {},
   "outputs": [],
   "source": []
  },
  {
   "cell_type": "code",
   "execution_count": null,
   "metadata": {},
   "outputs": [],
   "source": []
  },
  {
   "cell_type": "code",
   "execution_count": null,
   "metadata": {},
   "outputs": [],
   "source": []
  },
  {
   "cell_type": "code",
   "execution_count": null,
   "metadata": {},
   "outputs": [],
   "source": []
  }
 ],
 "metadata": {
  "kernelspec": {
   "display_name": "Python 3",
   "language": "python",
   "name": "python3"
  },
  "language_info": {
   "codemirror_mode": {
    "name": "ipython",
    "version": 3
   },
   "file_extension": ".py",
   "mimetype": "text/x-python",
   "name": "python",
   "nbconvert_exporter": "python",
   "pygments_lexer": "ipython3",
   "version": "3.8.3"
  }
 },
 "nbformat": 4,
 "nbformat_minor": 4
}
